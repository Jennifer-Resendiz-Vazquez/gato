{
  "nbformat": 4,
  "nbformat_minor": 0,
  "metadata": {
    "colab": {
      "provenance": [],
      "include_colab_link": true
    },
    "kernelspec": {
      "name": "python3",
      "display_name": "Python 3"
    },
    "language_info": {
      "name": "python"
    }
  },
  "cells": [
    {
      "cell_type": "markdown",
      "metadata": {
        "id": "view-in-github",
        "colab_type": "text"
      },
      "source": [
        "<a href=\"https://colab.research.google.com/github/Jennifer-Resendiz-Vazquez/gato/blob/main/inmuebles_cdmx.ipynb\" target=\"_parent\"><img src=\"https://colab.research.google.com/assets/colab-badge.svg\" alt=\"Open In Colab\"/></a>"
      ]
    },
    {
      "cell_type": "markdown",
      "source": [
        "Hemos sido contratados como científicos de datos por una empresa inmobiliaria. Nuestra principal función es brindar soporte a las demandas del equipo de Aprendizaje Automático y del equipo de Desarrollo de esta empresa.\n",
        "\n",
        "Para atender a estas demandas, se ha proporcionado un tablero en Trello con las etapas y tareas del proyecto que debemos realizar. También se nos ha proporcionado una base de datos que utilizaremos para desarrollar el proyecto."
      ],
      "metadata": {
        "id": "L9FVYHuWOnr_"
      }
    },
    {
      "cell_type": "code",
      "source": [],
      "metadata": {
        "id": "OEHRMc8kMFFI"
      },
      "execution_count": null,
      "outputs": []
    }
  ]
}